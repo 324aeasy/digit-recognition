{
 "cells": [
  {
   "cell_type": "markdown",
   "metadata": {},
   "source": [
    "Follow directions to install pytesseract here: https://www.youtube.com/watch?v=DG5D8A3zi4o"
   ]
  },
  {
   "cell_type": "code",
   "execution_count": 3,
   "metadata": {},
   "outputs": [],
   "source": [
    "import pytesseract as tess\n",
    "from PIL import Image\n",
    "import requests\n",
    "import io\n",
    "import cv2\n",
    "tess.pytesseract.tesseract_cmd = r\"C:\\Users\\100707881\\AppData\\Local\\Programs\\Tesseract-OCR\\tesseract.exe\"\n"
   ]
  },
  {
   "cell_type": "code",
   "execution_count": 35,
   "metadata": {},
   "outputs": [],
   "source": [
    "def black_and_white(fname):\n",
    "    img = Image.open(fname)\n",
    "    threshhold = 100\n",
    "    fn = lambda x : 255 if x > threshhold else 0\n",
    "    r = img.convert('L').point(fn, mode='1')\n",
    "    r.save('foo.png')"
   ]
  },
  {
   "cell_type": "code",
   "execution_count": 6,
   "metadata": {},
   "outputs": [],
   "source": [
    "def give_digit(fname):\n",
    "    img = cv2.imread(fname,0)\n",
    "    thresh = cv2.threshold(img,0,255,cv2.THRESH_BINARY_INV + cv2.THRESH_OTSU)[1]\n",
    "    text =  tess.image_to_string(thresh, lang='eng', config='--psm 13 --oem 3 -c tessedit_char_whitelist=0123456789')\n",
    "    \n",
    "    window_name = 'image'\n",
    "    cv2.imshow(window_name,img)\n",
    "    cv2.waitKey(0)\n",
    "    \n",
    "    return text\n"
   ]
  },
  {
   "cell_type": "code",
   "execution_count": 49,
   "metadata": {},
   "outputs": [
    {
     "name": "stdout",
     "output_type": "stream",
     "text": [
      "625\n",
      "\f",
      "\n"
     ]
    }
   ],
   "source": [
    "#black_and_white(\"test.png\")\n",
    "mytext = give_digit(\"test.png\")\n",
    "print(mytext)"
   ]
  },
  {
   "cell_type": "code",
   "execution_count": null,
   "metadata": {},
   "outputs": [],
   "source": []
  }
 ],
 "metadata": {
  "kernelspec": {
   "display_name": "Python 3",
   "language": "python",
   "name": "python3"
  },
  "language_info": {
   "codemirror_mode": {
    "name": "ipython",
    "version": 3
   },
   "file_extension": ".py",
   "mimetype": "text/x-python",
   "name": "python",
   "nbconvert_exporter": "python",
   "pygments_lexer": "ipython3",
   "version": "3.8.3"
  }
 },
 "nbformat": 4,
 "nbformat_minor": 4
}
