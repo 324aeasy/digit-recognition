{
 "cells": [
  {
   "cell_type": "markdown",
   "metadata": {},
   "source": [
    "Follow directions to install pytesseract here: https://www.youtube.com/watch?v=DG5D8A3zi4o"
   ]
  },
  {
   "cell_type": "code",
   "execution_count": 85,
   "metadata": {},
   "outputs": [],
   "source": [
    "import pytesseract as tess\n",
    "import cv2\n",
    "import matplotlib.pyplot as plt\n",
    "from matplotlib.patches import Rectangle\n",
    "import pandas as pd\n",
    "\n",
    "# Replace with the directory to your tesseract executable file, tesseract.exe\n",
    "tess.pytesseract.tesseract_cmd = r\"C:\\Users\\{Username}\\AppData\\Local\\Programs\\Tesseract-OCR\\tesseract.exe\"\n"
   ]
  },
  {
   "cell_type": "code",
   "execution_count": 247,
   "metadata": {},
   "outputs": [
    {
     "name": "stdout",
     "output_type": "stream",
     "text": [
      "Interpreted digits: 533\n",
      "\f",
      "\n",
      "   conf   text\n",
      "4    45  533.0\n"
     ]
    },
    {
     "data": {
      "text/plain": [
       "<matplotlib.image.AxesImage at 0x18d06e483a0>"
      ]
     },
     "execution_count": 247,
     "metadata": {},
     "output_type": "execute_result"
    },
    {
     "data": {
      "image/png": "[encoded data removed]",
      "text/plain": [
       "<Figure size 432x288 with 1 Axes>"
      ]
     },
     "metadata": {
      "needs_background": "light"
     },
     "output_type": "display_data"
    }
   ],
   "source": [
    "#Read image file and get height and width\n",
    "filename = 'test.png'\n",
    "img = cv2.imread(filename,0)\n",
    "h, w = img.shape\n",
    "\n",
    "# Run tesseract, returning bounding boxes and interpreted digits. Whitelist digits only.\n",
    "boxes = tess.image_to_boxes(img, lang='eng', config='--psm 13 --oem 3 -c tessedit_char_whitelist=0123456789')\n",
    "\n",
    "#Print out the interpreted digits.\n",
    "print(f\"Interpreted digits: {tess.image_to_string(img, lang='eng', config='--psm 13 --oem 3 -c tessedit_char_whitelist=0123456789')}\")\n",
    "\n",
    "#Retrieve confidence statistics. Take only entries where there is a confidence value.\n",
    "text = tess.image_to_data(img, lang='eng', config='--psm 13 --oem 3 -c tessedit_char_whitelist=0123456789', output_type='data.frame')\n",
    "text = text[text.conf != -1]\n",
    "print(text[['conf','text']])\n",
    "\n",
    "# For each digit detected...\n",
    "for b in boxes.splitlines():\n",
    "    b = b.split()    \n",
    "    midwidth = (int(b[1]) + int(b[3]))/2  \n",
    "    \n",
    "    # Draw a green rectangle around the digit\n",
    "    img = cv2.rectangle(img, ((int(b[1]), h - int(b[2]))), ((int(b[3]), h - int(b[4]))), (0, 255, 0), 2)\n",
    "    \n",
    "    # Draw a red rectangle with the detected digit above the corresponding number\n",
    "    plt.text(midwidth,h-int(b[4])-40,b[0],bbox=dict(fill=False, edgecolor='red',linewidth=2))\n",
    "    \n",
    "\n",
    "# Display the image\n",
    "plt.imshow(img)"
   ]
  },
  {
   "cell_type": "code",
   "execution_count": null,
   "metadata": {},
   "outputs": [],
   "source": []
  },
  {
   "cell_type": "code",
   "execution_count": null,
   "metadata": {},
   "outputs": [],
   "source": []
  }
 ],
 "metadata": {
  "kernelspec": {
   "display_name": "Python 3",
   "language": "python",
   "name": "python3"
  },
  "language_info": {
   "codemirror_mode": {
    "name": "ipython",
    "version": 3
   },
   "file_extension": ".py",
   "mimetype": "text/x-python",
   "name": "python",
   "nbconvert_exporter": "python",
   "pygments_lexer": "ipython3",
   "version": "3.8.3"
  }
 },
 "nbformat": 4,
 "nbformat_minor": 4
}
